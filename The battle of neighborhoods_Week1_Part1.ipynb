{
 "cells": [
  {
   "cell_type": "markdown",
   "metadata": {
    "collapsed": true
   },
   "source": [
    "# The Battle of Neighborhoods - Week 1"
   ]
  },
  {
   "cell_type": "markdown",
   "metadata": {},
   "source": [
    "## Introduction"
   ]
  },
  {
   "cell_type": "markdown",
   "metadata": {},
   "source": [
    "New York city, is the most populous island in the US. It gives oppourtunities and friendly environment to business people. That is why New York attracts many different players into the market. New York is a major center for banking and finance, retailing, world trade, tourism, media, advertising, legal services, arts in the United States.\n",
    "\n",
    "At the same time, the market is extremely competitive. As it is highly developed city so cost of doing business is also one of the highest. Thus, any new business needs to be analysed carefully. The analysis will provide insights of the business environment which help in strategically targeting the market."
   ]
  },
  {
   "cell_type": "markdown",
   "metadata": {},
   "source": [
    "## Business Problem"
   ]
  },
  {
   "cell_type": "markdown",
   "metadata": {},
   "source": [
    "Bussiness person would like to open a new restaurant in New York City. Before starting their own business, the company would like to dig deep into New York City to reduce the risks. New York is famous for its excelllent cuisine. It's food culture includes an array of international cuisines influenced by the city's immigrant history. So it is very important to startegically plan to survive in such competitive market. Various factors need to be studied inorder to decide on the exact Location."
   ]
  },
  {
   "cell_type": "code",
   "execution_count": null,
   "metadata": {},
   "outputs": [],
   "source": []
  }
 ],
 "metadata": {
  "kernelspec": {
   "display_name": "Python 3.6",
   "language": "python",
   "name": "python3"
  },
  "language_info": {
   "codemirror_mode": {
    "name": "ipython",
    "version": 3
   },
   "file_extension": ".py",
   "mimetype": "text/x-python",
   "name": "python",
   "nbconvert_exporter": "python",
   "pygments_lexer": "ipython3",
   "version": "3.6.9"
  }
 },
 "nbformat": 4,
 "nbformat_minor": 1
}
